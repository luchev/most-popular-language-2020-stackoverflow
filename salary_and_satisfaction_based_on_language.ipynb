{
 "metadata": {
  "language_info": {
   "codemirror_mode": {
    "name": "ipython",
    "version": 3
   },
   "file_extension": ".py",
   "mimetype": "text/x-python",
   "name": "python",
   "nbconvert_exporter": "python",
   "pygments_lexer": "ipython3",
   "version": 3
  },
  "orig_nbformat": 2,
  "kernelspec": {
   "name": "python_defaultSpec_1596387573566",
   "display_name": "Python 3.8.3 64-bit"
  }
 },
 "nbformat": 4,
 "nbformat_minor": 2,
 "cells": [
  {
   "cell_type": "markdown",
   "metadata": {},
   "source": [
    "## Does language popularity affect salary?\n",
    "We saw which are the most popular programming languages, but what about salary? Are developers who use more popular languages better paid?\n",
    "Let's try to figure that out by using the ConvertedComp (yearly salary in USD) and the Language column."
   ]
  },
  {
   "cell_type": "code",
   "execution_count": 1,
   "metadata": {},
   "outputs": [
    {
     "output_type": "execute_result",
     "data": {
      "text/plain": "    ConvertedComp                   LanguageWorkedWith\n7        116000.0                           Python;SQL\n9         32315.0  HTML/CSS;Java;JavaScript;Python;SQL\n10        40070.0                  C#;JavaScript;Swift\n11        14268.0                  HTML/CSS;JavaScript\n12        38916.0                  C;JavaScript;Python",
      "text/html": "<div>\n<style scoped>\n    .dataframe tbody tr th:only-of-type {\n        vertical-align: middle;\n    }\n\n    .dataframe tbody tr th {\n        vertical-align: top;\n    }\n\n    .dataframe thead th {\n        text-align: right;\n    }\n</style>\n<table border=\"1\" class=\"dataframe\">\n  <thead>\n    <tr style=\"text-align: right;\">\n      <th></th>\n      <th>ConvertedComp</th>\n      <th>LanguageWorkedWith</th>\n    </tr>\n  </thead>\n  <tbody>\n    <tr>\n      <th>7</th>\n      <td>116000.0</td>\n      <td>Python;SQL</td>\n    </tr>\n    <tr>\n      <th>9</th>\n      <td>32315.0</td>\n      <td>HTML/CSS;Java;JavaScript;Python;SQL</td>\n    </tr>\n    <tr>\n      <th>10</th>\n      <td>40070.0</td>\n      <td>C#;JavaScript;Swift</td>\n    </tr>\n    <tr>\n      <th>11</th>\n      <td>14268.0</td>\n      <td>HTML/CSS;JavaScript</td>\n    </tr>\n    <tr>\n      <th>12</th>\n      <td>38916.0</td>\n      <td>C;JavaScript;Python</td>\n    </tr>\n  </tbody>\n</table>\n</div>"
     },
     "metadata": {},
     "execution_count": 1
    }
   ],
   "source": [
    "import pandas as pd\n",
    "import numpy as np\n",
    "import matplotlib.pyplot as plt\n",
    "\n",
    "df = pd.read_csv('data/2020.csv')\n",
    "\n",
    "language_and_salary = df[['ConvertedComp', 'LanguageWorkedWith']]\n",
    "language_and_salary = language_and_salary.dropna()\n",
    "language_and_salary.head()"
   ]
  },
  {
   "cell_type": "code",
   "execution_count": 2,
   "metadata": {},
   "outputs": [
    {
     "output_type": "execute_result",
     "data": {
      "text/plain": "Langauge                                            Users  Average salary\n                                                                         \nBash/Shell/PowerShell;Java;JavaScript;Objective...      1       2000000.0\nBash/Shell/PowerShell;C;C#;Go;HTML/CSS;Java;Jav...      1       2000000.0\nC#;C++;HTML/CSS;JavaScript;Perl;SQL;VBA                 1       2000000.0\nC#;Java;R;Scala;SQL                                     1       2000000.0\nC;C++;Go;HTML/CSS;Java;JavaScript;Kotlin;Object...      1       2000000.0",
      "text/html": "<div>\n<style scoped>\n    .dataframe tbody tr th:only-of-type {\n        vertical-align: middle;\n    }\n\n    .dataframe tbody tr th {\n        vertical-align: top;\n    }\n\n    .dataframe thead th {\n        text-align: right;\n    }\n</style>\n<table border=\"1\" class=\"dataframe\">\n  <thead>\n    <tr style=\"text-align: right;\">\n      <th>Langauge</th>\n      <th>Users</th>\n      <th>Average salary</th>\n    </tr>\n    <tr>\n      <th></th>\n      <th></th>\n      <th></th>\n    </tr>\n  </thead>\n  <tbody>\n    <tr>\n      <th>Bash/Shell/PowerShell;Java;JavaScript;Objective-C;Ruby;Swift</th>\n      <td>1</td>\n      <td>2000000.0</td>\n    </tr>\n    <tr>\n      <th>Bash/Shell/PowerShell;C;C#;Go;HTML/CSS;Java;JavaScript;Ruby</th>\n      <td>1</td>\n      <td>2000000.0</td>\n    </tr>\n    <tr>\n      <th>C#;C++;HTML/CSS;JavaScript;Perl;SQL;VBA</th>\n      <td>1</td>\n      <td>2000000.0</td>\n    </tr>\n    <tr>\n      <th>C#;Java;R;Scala;SQL</th>\n      <td>1</td>\n      <td>2000000.0</td>\n    </tr>\n    <tr>\n      <th>C;C++;Go;HTML/CSS;Java;JavaScript;Kotlin;Objective-C;PHP;Python;SQL;Swift;TypeScript</th>\n      <td>1</td>\n      <td>2000000.0</td>\n    </tr>\n  </tbody>\n</table>\n</div>"
     },
     "metadata": {},
     "execution_count": 2
    }
   ],
   "source": [
    "# First let's find the average salary each developer received by grouping the responses\n",
    "mean_salaries = language_and_salary.groupby('LanguageWorkedWith').aggregate(['count','mean'])\n",
    "# Set more meaningful column names\n",
    "mean_salaries.columns = ['Users', 'Average salary']\n",
    "mean_salaries.columns.name = 'Langauge'\n",
    "mean_salaries.index.name = ''\n",
    "mean_salaries = mean_salaries.sort_values('Average salary', ascending=False)\n",
    "mean_salaries.head()"
   ]
  },
  {
   "cell_type": "markdown",
   "metadata": {},
   "source": [
    "We grouped people by the language they used, but because the language in the survey is the whole stack of languages they used, we got information about some exceptional individuals. We really want to get information about every language. So let's split the survey results into different columns."
   ]
  },
  {
   "cell_type": "code",
   "execution_count": 3,
   "metadata": {},
   "outputs": [
    {
     "output_type": "execute_result",
     "data": {
      "text/plain": "    Assembly  Bash/Shell/PowerShell  C  C#  C++  Dart  Go  HTML/CSS  Haskell  \\\n7          0                      0  0   0    0     0   0         0        0   \n9          0                      0  0   0    0     0   0         1        0   \n10         0                      0  0   1    0     0   0         0        0   \n11         0                      0  0   0    0     0   0         1        0   \n12         0                      0  1   0    0     0   0         0        0   \n\n    Java  ...  Python  R  Ruby  Rust  SQL  Scala  Swift  TypeScript  VBA  \\\n7      0  ...       1  0     0     0    1      0      0           0    0   \n9      1  ...       1  0     0     0    1      0      0           0    0   \n10     0  ...       0  0     0     0    0      0      1           0    0   \n11     0  ...       0  0     0     0    0      0      0           0    0   \n12     0  ...       1  0     0     0    0      0      0           0    0   \n\n      Salary  \n7   116000.0  \n9    32315.0  \n10   40070.0  \n11   14268.0  \n12   38916.0  \n\n[5 rows x 26 columns]",
      "text/html": "<div>\n<style scoped>\n    .dataframe tbody tr th:only-of-type {\n        vertical-align: middle;\n    }\n\n    .dataframe tbody tr th {\n        vertical-align: top;\n    }\n\n    .dataframe thead th {\n        text-align: right;\n    }\n</style>\n<table border=\"1\" class=\"dataframe\">\n  <thead>\n    <tr style=\"text-align: right;\">\n      <th></th>\n      <th>Assembly</th>\n      <th>Bash/Shell/PowerShell</th>\n      <th>C</th>\n      <th>C#</th>\n      <th>C++</th>\n      <th>Dart</th>\n      <th>Go</th>\n      <th>HTML/CSS</th>\n      <th>Haskell</th>\n      <th>Java</th>\n      <th>...</th>\n      <th>Python</th>\n      <th>R</th>\n      <th>Ruby</th>\n      <th>Rust</th>\n      <th>SQL</th>\n      <th>Scala</th>\n      <th>Swift</th>\n      <th>TypeScript</th>\n      <th>VBA</th>\n      <th>Salary</th>\n    </tr>\n  </thead>\n  <tbody>\n    <tr>\n      <th>7</th>\n      <td>0</td>\n      <td>0</td>\n      <td>0</td>\n      <td>0</td>\n      <td>0</td>\n      <td>0</td>\n      <td>0</td>\n      <td>0</td>\n      <td>0</td>\n      <td>0</td>\n      <td>...</td>\n      <td>1</td>\n      <td>0</td>\n      <td>0</td>\n      <td>0</td>\n      <td>1</td>\n      <td>0</td>\n      <td>0</td>\n      <td>0</td>\n      <td>0</td>\n      <td>116000.0</td>\n    </tr>\n    <tr>\n      <th>9</th>\n      <td>0</td>\n      <td>0</td>\n      <td>0</td>\n      <td>0</td>\n      <td>0</td>\n      <td>0</td>\n      <td>0</td>\n      <td>1</td>\n      <td>0</td>\n      <td>1</td>\n      <td>...</td>\n      <td>1</td>\n      <td>0</td>\n      <td>0</td>\n      <td>0</td>\n      <td>1</td>\n      <td>0</td>\n      <td>0</td>\n      <td>0</td>\n      <td>0</td>\n      <td>32315.0</td>\n    </tr>\n    <tr>\n      <th>10</th>\n      <td>0</td>\n      <td>0</td>\n      <td>0</td>\n      <td>1</td>\n      <td>0</td>\n      <td>0</td>\n      <td>0</td>\n      <td>0</td>\n      <td>0</td>\n      <td>0</td>\n      <td>...</td>\n      <td>0</td>\n      <td>0</td>\n      <td>0</td>\n      <td>0</td>\n      <td>0</td>\n      <td>0</td>\n      <td>1</td>\n      <td>0</td>\n      <td>0</td>\n      <td>40070.0</td>\n    </tr>\n    <tr>\n      <th>11</th>\n      <td>0</td>\n      <td>0</td>\n      <td>0</td>\n      <td>0</td>\n      <td>0</td>\n      <td>0</td>\n      <td>0</td>\n      <td>1</td>\n      <td>0</td>\n      <td>0</td>\n      <td>...</td>\n      <td>0</td>\n      <td>0</td>\n      <td>0</td>\n      <td>0</td>\n      <td>0</td>\n      <td>0</td>\n      <td>0</td>\n      <td>0</td>\n      <td>0</td>\n      <td>14268.0</td>\n    </tr>\n    <tr>\n      <th>12</th>\n      <td>0</td>\n      <td>0</td>\n      <td>1</td>\n      <td>0</td>\n      <td>0</td>\n      <td>0</td>\n      <td>0</td>\n      <td>0</td>\n      <td>0</td>\n      <td>0</td>\n      <td>...</td>\n      <td>1</td>\n      <td>0</td>\n      <td>0</td>\n      <td>0</td>\n      <td>0</td>\n      <td>0</td>\n      <td>0</td>\n      <td>0</td>\n      <td>0</td>\n      <td>38916.0</td>\n    </tr>\n  </tbody>\n</table>\n<p>5 rows × 26 columns</p>\n</div>"
     },
     "metadata": {},
     "execution_count": 3
    }
   ],
   "source": [
    "def split_column(column: pd.Series, separator: str = ';') -> pd.DataFrame:\n",
    "    \"\"\"\n",
    "    INPUT:\n",
    "    responses - pandas Series with multiple values per cell, separated by a delimiter\n",
    "    separator - separator between the values in the cells\n",
    "\n",
    "    OUTPUT:\n",
    "    pandas DataFrame where for each unique value exists a column and its value is either 1 or 0\n",
    "    \"\"\"\n",
    "    return column.str.get_dummies(sep=separator)\n",
    "\n",
    "split_languages_salaries_df = split_column(language_and_salary['LanguageWorkedWith'])\n",
    "split_languages_salaries_df['Salary'] = language_and_salary['ConvertedComp']\n",
    "split_languages_salaries_df.head()"
   ]
  },
  {
   "cell_type": "markdown",
   "metadata": {},
   "source": [
    "Now we have data we can work with. Let's try to determine the average salary for each language."
   ]
  },
  {
   "cell_type": "code",
   "execution_count": 4,
   "metadata": {
    "tags": []
   },
   "outputs": [
    {
     "output_type": "execute_result",
     "data": {
      "text/plain": "Language               Users  Average salary\nJulia                    241   170101.531120\nPerl                    1072   155724.990672\nScala                   1377   145749.003631\nRuby                    2681   143067.032451\nRust                    1628   138282.399877\nGo                      3322   134861.133955\nObjective-C             1406   132170.721195\nBash/Shell/PowerShell  12514   123621.343455\nR                       1789   123614.177194\nAssembly                1420   121457.115493\nSwift                   1949   120973.189841\nHaskell                  564   116999.764184\nVBA                     2006   114026.976570\nPython                 13931   113061.525519\nC++                     6358   111340.135263\nKotlin                  2656   109530.868223\nTypeScript              9962   107735.755370\nC#                     11104   107592.112122\nC                       5423   107248.043334\nJava                   12380   105150.557027\nSQL                    19340   103281.520372\nJavaScript             23619   102280.804691\nHTML/CSS               20907   100018.777252\nDart                    1133    87885.134157\nPHP                     8228    81937.732620",
      "text/html": "<div>\n<style scoped>\n    .dataframe tbody tr th:only-of-type {\n        vertical-align: middle;\n    }\n\n    .dataframe tbody tr th {\n        vertical-align: top;\n    }\n\n    .dataframe thead th {\n        text-align: right;\n    }\n</style>\n<table border=\"1\" class=\"dataframe\">\n  <thead>\n    <tr style=\"text-align: right;\">\n      <th>Language</th>\n      <th>Users</th>\n      <th>Average salary</th>\n    </tr>\n  </thead>\n  <tbody>\n    <tr>\n      <th>Julia</th>\n      <td>241</td>\n      <td>170101.531120</td>\n    </tr>\n    <tr>\n      <th>Perl</th>\n      <td>1072</td>\n      <td>155724.990672</td>\n    </tr>\n    <tr>\n      <th>Scala</th>\n      <td>1377</td>\n      <td>145749.003631</td>\n    </tr>\n    <tr>\n      <th>Ruby</th>\n      <td>2681</td>\n      <td>143067.032451</td>\n    </tr>\n    <tr>\n      <th>Rust</th>\n      <td>1628</td>\n      <td>138282.399877</td>\n    </tr>\n    <tr>\n      <th>Go</th>\n      <td>3322</td>\n      <td>134861.133955</td>\n    </tr>\n    <tr>\n      <th>Objective-C</th>\n      <td>1406</td>\n      <td>132170.721195</td>\n    </tr>\n    <tr>\n      <th>Bash/Shell/PowerShell</th>\n      <td>12514</td>\n      <td>123621.343455</td>\n    </tr>\n    <tr>\n      <th>R</th>\n      <td>1789</td>\n      <td>123614.177194</td>\n    </tr>\n    <tr>\n      <th>Assembly</th>\n      <td>1420</td>\n      <td>121457.115493</td>\n    </tr>\n    <tr>\n      <th>Swift</th>\n      <td>1949</td>\n      <td>120973.189841</td>\n    </tr>\n    <tr>\n      <th>Haskell</th>\n      <td>564</td>\n      <td>116999.764184</td>\n    </tr>\n    <tr>\n      <th>VBA</th>\n      <td>2006</td>\n      <td>114026.976570</td>\n    </tr>\n    <tr>\n      <th>Python</th>\n      <td>13931</td>\n      <td>113061.525519</td>\n    </tr>\n    <tr>\n      <th>C++</th>\n      <td>6358</td>\n      <td>111340.135263</td>\n    </tr>\n    <tr>\n      <th>Kotlin</th>\n      <td>2656</td>\n      <td>109530.868223</td>\n    </tr>\n    <tr>\n      <th>TypeScript</th>\n      <td>9962</td>\n      <td>107735.755370</td>\n    </tr>\n    <tr>\n      <th>C#</th>\n      <td>11104</td>\n      <td>107592.112122</td>\n    </tr>\n    <tr>\n      <th>C</th>\n      <td>5423</td>\n      <td>107248.043334</td>\n    </tr>\n    <tr>\n      <th>Java</th>\n      <td>12380</td>\n      <td>105150.557027</td>\n    </tr>\n    <tr>\n      <th>SQL</th>\n      <td>19340</td>\n      <td>103281.520372</td>\n    </tr>\n    <tr>\n      <th>JavaScript</th>\n      <td>23619</td>\n      <td>102280.804691</td>\n    </tr>\n    <tr>\n      <th>HTML/CSS</th>\n      <td>20907</td>\n      <td>100018.777252</td>\n    </tr>\n    <tr>\n      <th>Dart</th>\n      <td>1133</td>\n      <td>87885.134157</td>\n    </tr>\n    <tr>\n      <th>PHP</th>\n      <td>8228</td>\n      <td>81937.732620</td>\n    </tr>\n  </tbody>\n</table>\n</div>"
     },
     "metadata": {},
     "execution_count": 4
    }
   ],
   "source": [
    "def aggregate_mean(df: pd.DataFrame, columns: [], agg_column: str) -> pd.DataFrame:\n",
    "    \"\"\"\n",
    "    INPUT:\n",
    "    df - pandas DataFrame with columns for which to find count and mean\n",
    "    columns - list of column names for which to find count and mean\n",
    "    agg_column - column for which to find mean\n",
    "\n",
    "    OUTPUT:\n",
    "    DataFrame with count and mean for each aggregated column\n",
    "    \"\"\"\n",
    "    aggregated = {}\n",
    "    for column in list(columns):\n",
    "        mean = df[df[column] == 1].mean()[agg_column]\n",
    "        count = len(df[df[column] == 1])\n",
    "        aggregated[column] = (count, mean)\n",
    "    return pd.DataFrame.from_dict(aggregated, orient='index')\n",
    "\n",
    "salaries_df = aggregate_mean(split_languages_salaries_df, split_languages_salaries_df.columns[:-1], 'Salary')\n",
    "salaries_df.columns = ['Users', 'Average salary']\n",
    "salaries_df.columns.name = 'Language'\n",
    "salaries_df.sort_values('Average salary', ascending=False)"
   ]
  },
  {
   "cell_type": "markdown",
   "metadata": {},
   "source": [
    "We can see some very interesting results here. The top 5 most popular programming languages we found in the other notebook were JavaScript, HTML/CSS, SQL, Python and Java. From those 4 (excluding Python) are all the way on the bottom of the salary pyramid, with Python being slightly above them.\n",
    "This data doesn't give us exact information on what one's salary would be if they used only one language. What we get instead is an estimation of a developer's salary if they use a particular language alongside other languages, which we are not accounting for here. So the fact Julia programmers are very well paid does not mean that these programmers only use Julia as  all of them could also be using Python and the combination of these 2 languages could be bossting their salaries to top place. We will come back to this later and try to explore ways to better determine one's salary."
   ]
  },
  {
   "cell_type": "markdown",
   "metadata": {},
   "source": [
    "Before we move on, let's see how happy developers are using a particular language. We will do the same data processing as we did for salary."
   ]
  },
  {
   "cell_type": "code",
   "execution_count": 5,
   "metadata": {},
   "outputs": [
    {
     "output_type": "execute_result",
     "data": {
      "text/plain": "['Slightly satisfied',\n 'Very dissatisfied',\n 'Very satisfied',\n 'Slightly dissatisfied',\n 'Neither satisfied nor dissatisfied']"
     },
     "metadata": {},
     "execution_count": 5
    }
   ],
   "source": [
    "language_and_satisfaction = df[['JobSat', 'LanguageWorkedWith']]\n",
    "language_and_satisfaction = language_and_satisfaction.dropna()\n",
    "# JobSat is a categorical field, so let's map it to numerical values\n",
    "list(language_and_satisfaction['JobSat'].unique())"
   ]
  },
  {
   "cell_type": "code",
   "execution_count": 6,
   "metadata": {},
   "outputs": [
    {
     "output_type": "execute_result",
     "data": {
      "text/plain": "   Assembly  Bash/Shell/PowerShell  C  C#  C++  Dart  Go  HTML/CSS  Haskell  \\\n0         0                      0  0   1    0     0   0         1        0   \n1         0                      0  0   0    0     0   0         0        0   \n5         0                      0  0   0    0     0   0         1        0   \n6         0                      0  0   1    0     0   0         1        0   \n7         0                      0  0   0    0     0   0         0        0   \n\n   Java  ...  Python  R  Ruby  Rust  SQL  Scala  Swift  TypeScript  VBA  \\\n0     0  ...       0  0     0     0    0      0      0           0    0   \n1     0  ...       0  0     0     0    0      0      1           0    0   \n5     1  ...       0  0     0     0    0      0      0           0    0   \n6     0  ...       0  0     0     0    0      0      0           0    0   \n7     0  ...       1  0     0     0    1      0      0           0    0   \n\n   Satisfaction  \n0             3  \n1             0  \n5             3  \n6             4  \n7             1  \n\n[5 rows x 26 columns]",
      "text/html": "<div>\n<style scoped>\n    .dataframe tbody tr th:only-of-type {\n        vertical-align: middle;\n    }\n\n    .dataframe tbody tr th {\n        vertical-align: top;\n    }\n\n    .dataframe thead th {\n        text-align: right;\n    }\n</style>\n<table border=\"1\" class=\"dataframe\">\n  <thead>\n    <tr style=\"text-align: right;\">\n      <th></th>\n      <th>Assembly</th>\n      <th>Bash/Shell/PowerShell</th>\n      <th>C</th>\n      <th>C#</th>\n      <th>C++</th>\n      <th>Dart</th>\n      <th>Go</th>\n      <th>HTML/CSS</th>\n      <th>Haskell</th>\n      <th>Java</th>\n      <th>...</th>\n      <th>Python</th>\n      <th>R</th>\n      <th>Ruby</th>\n      <th>Rust</th>\n      <th>SQL</th>\n      <th>Scala</th>\n      <th>Swift</th>\n      <th>TypeScript</th>\n      <th>VBA</th>\n      <th>Satisfaction</th>\n    </tr>\n  </thead>\n  <tbody>\n    <tr>\n      <th>0</th>\n      <td>0</td>\n      <td>0</td>\n      <td>0</td>\n      <td>1</td>\n      <td>0</td>\n      <td>0</td>\n      <td>0</td>\n      <td>1</td>\n      <td>0</td>\n      <td>0</td>\n      <td>...</td>\n      <td>0</td>\n      <td>0</td>\n      <td>0</td>\n      <td>0</td>\n      <td>0</td>\n      <td>0</td>\n      <td>0</td>\n      <td>0</td>\n      <td>0</td>\n      <td>3</td>\n    </tr>\n    <tr>\n      <th>1</th>\n      <td>0</td>\n      <td>0</td>\n      <td>0</td>\n      <td>0</td>\n      <td>0</td>\n      <td>0</td>\n      <td>0</td>\n      <td>0</td>\n      <td>0</td>\n      <td>0</td>\n      <td>...</td>\n      <td>0</td>\n      <td>0</td>\n      <td>0</td>\n      <td>0</td>\n      <td>0</td>\n      <td>0</td>\n      <td>1</td>\n      <td>0</td>\n      <td>0</td>\n      <td>0</td>\n    </tr>\n    <tr>\n      <th>5</th>\n      <td>0</td>\n      <td>0</td>\n      <td>0</td>\n      <td>0</td>\n      <td>0</td>\n      <td>0</td>\n      <td>0</td>\n      <td>1</td>\n      <td>0</td>\n      <td>1</td>\n      <td>...</td>\n      <td>0</td>\n      <td>0</td>\n      <td>0</td>\n      <td>0</td>\n      <td>0</td>\n      <td>0</td>\n      <td>0</td>\n      <td>0</td>\n      <td>0</td>\n      <td>3</td>\n    </tr>\n    <tr>\n      <th>6</th>\n      <td>0</td>\n      <td>0</td>\n      <td>0</td>\n      <td>1</td>\n      <td>0</td>\n      <td>0</td>\n      <td>0</td>\n      <td>1</td>\n      <td>0</td>\n      <td>0</td>\n      <td>...</td>\n      <td>0</td>\n      <td>0</td>\n      <td>0</td>\n      <td>0</td>\n      <td>0</td>\n      <td>0</td>\n      <td>0</td>\n      <td>0</td>\n      <td>0</td>\n      <td>4</td>\n    </tr>\n    <tr>\n      <th>7</th>\n      <td>0</td>\n      <td>0</td>\n      <td>0</td>\n      <td>0</td>\n      <td>0</td>\n      <td>0</td>\n      <td>0</td>\n      <td>0</td>\n      <td>0</td>\n      <td>0</td>\n      <td>...</td>\n      <td>1</td>\n      <td>0</td>\n      <td>0</td>\n      <td>0</td>\n      <td>1</td>\n      <td>0</td>\n      <td>0</td>\n      <td>0</td>\n      <td>0</td>\n      <td>1</td>\n    </tr>\n  </tbody>\n</table>\n<p>5 rows × 26 columns</p>\n</div>"
     },
     "metadata": {},
     "execution_count": 6
    }
   ],
   "source": [
    "# Create a map with all possible options for Job Satisfaction.\n",
    "# We will use grades from 0 to 4 to determine how happy developers are \n",
    "satisfaction_map = {\n",
    "    'Very satisfied': 4,\n",
    "    'Slightly satisfied': 3,\n",
    "    'Neither satisfied nor dissatisfied': 2,\n",
    "    'Slightly dissatisfied': 1,\n",
    "    'Very dissatisfied': 0,\n",
    "}\n",
    "\n",
    "split_languages_satisfaction_df = split_column(language_and_satisfaction['LanguageWorkedWith'])\n",
    "split_languages_satisfaction_df['Satisfaction'] = language_and_satisfaction['JobSat'].map(satisfaction_map).dropna()\n",
    "split_languages_satisfaction_df.head()"
   ]
  },
  {
   "cell_type": "code",
   "execution_count": 7,
   "metadata": {},
   "outputs": [
    {
     "output_type": "execute_result",
     "data": {
      "text/plain": "Language               Users  Satisfaction\nJulia                    328     68.750000\nR                       2249     68.719431\nRuby                    3240     68.441358\nBash/Shell/PowerShell  15146     68.092236\nHaskell                  728     68.028846\nRust                    2027     67.254563\nAssembly                1929     67.210990\nPython                 17569     67.209289\nScala                   1699     67.157151\nTypeScript             12232     67.129251\nGo                      4040     66.769802\nObjective-C             1891     66.552089\nSwift                   2565     66.549708\nC++                     8409     66.402069\nPerl                    1437     66.249130\nC                       7403     66.199514\nC#                     13919     66.100295\nHTML/CSS               26487     66.042776\nSQL                    24363     65.981201\nJavaScript             29727     65.932486\nKotlin                  3379     65.581533\nJava                   16086     65.008392\nVBA                     2614     64.938791\nPHP                    10778     64.689646\nDart                    1506     64.160027",
      "text/html": "<div>\n<style scoped>\n    .dataframe tbody tr th:only-of-type {\n        vertical-align: middle;\n    }\n\n    .dataframe tbody tr th {\n        vertical-align: top;\n    }\n\n    .dataframe thead th {\n        text-align: right;\n    }\n</style>\n<table border=\"1\" class=\"dataframe\">\n  <thead>\n    <tr style=\"text-align: right;\">\n      <th>Language</th>\n      <th>Users</th>\n      <th>Satisfaction</th>\n    </tr>\n  </thead>\n  <tbody>\n    <tr>\n      <th>Julia</th>\n      <td>328</td>\n      <td>68.750000</td>\n    </tr>\n    <tr>\n      <th>R</th>\n      <td>2249</td>\n      <td>68.719431</td>\n    </tr>\n    <tr>\n      <th>Ruby</th>\n      <td>3240</td>\n      <td>68.441358</td>\n    </tr>\n    <tr>\n      <th>Bash/Shell/PowerShell</th>\n      <td>15146</td>\n      <td>68.092236</td>\n    </tr>\n    <tr>\n      <th>Haskell</th>\n      <td>728</td>\n      <td>68.028846</td>\n    </tr>\n    <tr>\n      <th>Rust</th>\n      <td>2027</td>\n      <td>67.254563</td>\n    </tr>\n    <tr>\n      <th>Assembly</th>\n      <td>1929</td>\n      <td>67.210990</td>\n    </tr>\n    <tr>\n      <th>Python</th>\n      <td>17569</td>\n      <td>67.209289</td>\n    </tr>\n    <tr>\n      <th>Scala</th>\n      <td>1699</td>\n      <td>67.157151</td>\n    </tr>\n    <tr>\n      <th>TypeScript</th>\n      <td>12232</td>\n      <td>67.129251</td>\n    </tr>\n    <tr>\n      <th>Go</th>\n      <td>4040</td>\n      <td>66.769802</td>\n    </tr>\n    <tr>\n      <th>Objective-C</th>\n      <td>1891</td>\n      <td>66.552089</td>\n    </tr>\n    <tr>\n      <th>Swift</th>\n      <td>2565</td>\n      <td>66.549708</td>\n    </tr>\n    <tr>\n      <th>C++</th>\n      <td>8409</td>\n      <td>66.402069</td>\n    </tr>\n    <tr>\n      <th>Perl</th>\n      <td>1437</td>\n      <td>66.249130</td>\n    </tr>\n    <tr>\n      <th>C</th>\n      <td>7403</td>\n      <td>66.199514</td>\n    </tr>\n    <tr>\n      <th>C#</th>\n      <td>13919</td>\n      <td>66.100295</td>\n    </tr>\n    <tr>\n      <th>HTML/CSS</th>\n      <td>26487</td>\n      <td>66.042776</td>\n    </tr>\n    <tr>\n      <th>SQL</th>\n      <td>24363</td>\n      <td>65.981201</td>\n    </tr>\n    <tr>\n      <th>JavaScript</th>\n      <td>29727</td>\n      <td>65.932486</td>\n    </tr>\n    <tr>\n      <th>Kotlin</th>\n      <td>3379</td>\n      <td>65.581533</td>\n    </tr>\n    <tr>\n      <th>Java</th>\n      <td>16086</td>\n      <td>65.008392</td>\n    </tr>\n    <tr>\n      <th>VBA</th>\n      <td>2614</td>\n      <td>64.938791</td>\n    </tr>\n    <tr>\n      <th>PHP</th>\n      <td>10778</td>\n      <td>64.689646</td>\n    </tr>\n    <tr>\n      <th>Dart</th>\n      <td>1506</td>\n      <td>64.160027</td>\n    </tr>\n  </tbody>\n</table>\n</div>"
     },
     "metadata": {},
     "execution_count": 7
    }
   ],
   "source": [
    "# Use the function we wrote earlier to calculate the mean satisfaction and number of people using a given language \n",
    "satisfaction_df = aggregate_mean(split_languages_satisfaction_df, split_languages_satisfaction_df.columns[:-1], 'Satisfaction')\n",
    "satisfaction_df.columns = ['Users', 'Satisfaction']\n",
    "satisfaction_df.columns.name = 'Language'\n",
    "# Our happiness scale is [0-4] so we scale to [0-100] to look at the percentages\n",
    "satisfaction_df['Satisfaction'] = satisfaction_df['Satisfaction'] * 25\n",
    "satisfaction_df.sort_values('Satisfaction', ascending=False)"
   ]
  },
  {
   "cell_type": "markdown",
   "metadata": {},
   "source": [
    "Seems like the Julia programmers who also earn the most are the happiest with their job. While JavaScript, HTML/CSS programmers are not that happy (3% less happy than the Julia programmers)"
   ]
  }
 ]
}