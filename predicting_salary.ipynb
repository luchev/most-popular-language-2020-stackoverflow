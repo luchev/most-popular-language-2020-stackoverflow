{
 "metadata": {
  "language_info": {
   "codemirror_mode": {
    "name": "ipython",
    "version": 3
   },
   "file_extension": ".py",
   "mimetype": "text/x-python",
   "name": "python",
   "nbconvert_exporter": "python",
   "pygments_lexer": "ipython3",
   "version": 3
  },
  "orig_nbformat": 2,
  "kernelspec": {
   "name": "python_defaultSpec_1596387550607",
   "display_name": "Python 3.8.3 64-bit"
  }
 },
 "nbformat": 4,
 "nbformat_minor": 2,
 "cells": [
  {
   "cell_type": "markdown",
   "metadata": {},
   "source": [
    "## Can we predicting the salary for developers who use more than 1 programming language?\n",
    "Let's see if we can predict a person's salary based on the language they use."
   ]
  },
  {
   "cell_type": "code",
   "execution_count": 1,
   "metadata": {},
   "outputs": [],
   "source": [
    "import pandas as pd\n",
    "import numpy as np\n",
    "import matplotlib.pyplot as plt\n",
    "from sklearn.linear_model import LinearRegression\n",
    "from sklearn.model_selection import train_test_split\n",
    "from sklearn.metrics import r2_score, mean_squared_error\n",
    "\n",
    "df = pd.read_csv('data/2020.csv')"
   ]
  },
  {
   "cell_type": "code",
   "execution_count": 2,
   "metadata": {
    "tags": []
   },
   "outputs": [
    {
     "output_type": "execute_result",
     "data": {
      "text/plain": "    ConvertedComp                   LanguageWorkedWith\n7        116000.0                           Python;SQL\n9         32315.0  HTML/CSS;Java;JavaScript;Python;SQL\n10        40070.0                  C#;JavaScript;Swift\n11        14268.0                  HTML/CSS;JavaScript\n12        38916.0                  C;JavaScript;Python",
      "text/html": "<div>\n<style scoped>\n    .dataframe tbody tr th:only-of-type {\n        vertical-align: middle;\n    }\n\n    .dataframe tbody tr th {\n        vertical-align: top;\n    }\n\n    .dataframe thead th {\n        text-align: right;\n    }\n</style>\n<table border=\"1\" class=\"dataframe\">\n  <thead>\n    <tr style=\"text-align: right;\">\n      <th></th>\n      <th>ConvertedComp</th>\n      <th>LanguageWorkedWith</th>\n    </tr>\n  </thead>\n  <tbody>\n    <tr>\n      <th>7</th>\n      <td>116000.0</td>\n      <td>Python;SQL</td>\n    </tr>\n    <tr>\n      <th>9</th>\n      <td>32315.0</td>\n      <td>HTML/CSS;Java;JavaScript;Python;SQL</td>\n    </tr>\n    <tr>\n      <th>10</th>\n      <td>40070.0</td>\n      <td>C#;JavaScript;Swift</td>\n    </tr>\n    <tr>\n      <th>11</th>\n      <td>14268.0</td>\n      <td>HTML/CSS;JavaScript</td>\n    </tr>\n    <tr>\n      <th>12</th>\n      <td>38916.0</td>\n      <td>C;JavaScript;Python</td>\n    </tr>\n  </tbody>\n</table>\n</div>"
     },
     "metadata": {},
     "execution_count": 2
    }
   ],
   "source": [
    "# We'll select only the salary and languages people use\n",
    "df_modified = df[['ConvertedComp', 'LanguageWorkedWith']]\n",
    "# Drop all the NaNs (missing language or slary data) so we can first check if this model works at all\n",
    "df_modified = df_modified.dropna()\n",
    "df_modified.head()"
   ]
  },
  {
   "cell_type": "code",
   "execution_count": 3,
   "metadata": {
    "tags": []
   },
   "outputs": [],
   "source": [
    "def split_column(column: pd.Series, separator: str = ';') -> pd.DataFrame:\n",
    "    \"\"\"\n",
    "    INPUT:\n",
    "    responses - pandas Series with multiple values per cell, separated by a delimiter\n",
    "    separator - separator between the values in the cells\n",
    "\n",
    "    OUTPUT:\n",
    "    pandas DataFrame where for each unique value exists a column and its value is either 1 or 0\n",
    "    \"\"\"\n",
    "    return column.str.get_dummies(sep=separator)\n",
    "\n",
    "# Split the categorical variable language into columns and separate the salary\n",
    "x = split_column(df_modified['LanguageWorkedWith'])\n",
    "salary_language_df = pd.concat([df_modified, x], axis=1).drop(['LanguageWorkedWith'], axis=1)\n",
    "y = df_modified['ConvertedComp']"
   ]
  },
  {
   "cell_type": "code",
   "execution_count": 4,
   "metadata": {
    "tags": []
   },
   "outputs": [
    {
     "output_type": "stream",
     "name": "stdout",
     "text": "r2 score for the train data 0.015749548071119612\nr2 score for the test data 0.01361132262454745\n"
    }
   ],
   "source": [
    "# Split the data into train and test\n",
    "x_train, x_test, y_train, y_test = train_test_split(x, y, test_size=0.5, random_state=16)\n",
    "model = LinearRegression()\n",
    "model.fit(x_train, y_train);\n",
    "y_predicted_train = model.predict(x_train)\n",
    "y_predicted_test = model.predict(x_test)\n",
    "# Evalueate the model using r2_score\n",
    "print('r2 score for the train data', r2_score(y_train, y_predicted_train))\n",
    "print('r2 score for the test data', r2_score(y_test, y_predicted_test))"
   ]
  },
  {
   "cell_type": "markdown",
   "metadata": {},
   "source": [
    "Judging by the r2 scores we get, we cannot predict accurately a developer's salary based only on the languages they use with simple linear regression."
   ]
  }
 ]
}